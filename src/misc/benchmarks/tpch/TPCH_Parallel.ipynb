{
 "cells": [
  {
   "cell_type": "code",
   "execution_count": 3,
   "metadata": {},
   "outputs": [
    {
     "name": "stderr",
     "output_type": "stream",
     "text": [
      "/opt/xcalar/lib/python3.6/site-packages/urllib3/connectionpool.py:858: InsecureRequestWarning: Unverified HTTPS request is being made. Adding certificate verification is strongly advised. See: https://urllib3.readthedocs.io/en/latest/advanced-usage.html#ssl-warnings\n",
      "  InsecureRequestWarning)\n"
     ]
    }
   ],
   "source": [
    "# Xcalar Notebook Connector\n",
    "# \n",
    "# Connects this Jupyter Notebook to the Xcalar Workbook <New Workbook>\n",
    "#\n",
    "# To use any data from your Xcalar Workbook, run this snippet before other \n",
    "# Xcalar Snippets in your workbook. \n",
    "# \n",
    "# A best practice is not to edit this cell.\n",
    "#\n",
    "# If you wish to use this Jupyter Notebook with a different Xcalar Workbook \n",
    "# delete this cell and click CODE SNIPPETS --> Connect to Xcalar Workbook.\n",
    "\n",
    "%matplotlib inline\n",
    "\n",
    "# Importing third-party modules to faciliate data work. \n",
    "import pandas as pd\n",
    "import matplotlib.pyplot as plt\n",
    "\n",
    "# Importing Xcalar packages and modules. \n",
    "# For more information, search and post questions on discourse.xcalar.com\n",
    "from xcalar.external.LegacyApi.XcalarApi import XcalarApi\n",
    "from xcalar.external.LegacyApi.Session import Session\n",
    "from xcalar.external.LegacyApi.WorkItem import *\n",
    "from xcalar.external.LegacyApi.Operators import *\n",
    "from xcalar.external.LegacyApi.Retina import *\n",
    "\n",
    "# Create a XcalarApi object\n",
    "xcalarApi = XcalarApi()\n",
    "# Connect to current workbook that you are in\n",
    "workbook = Session(xcalarApi, \"admin\", \"admin\", 4135730, True, \"TPCH\")\n",
    "xcalarApi.setSession(workbook)\n",
    "\n",
    "op = Operators(xcalarApi)\n",
    "ret = Retina(xcalarApi)"
   ]
  },
  {
   "cell_type": "code",
   "execution_count": 54,
   "metadata": {},
   "outputs": [],
   "source": [
    "sources = [\n",
    "    'lineitem_partkey#8',\n",
    "    'lineitem_shipdate#21',\n",
    "    'lineitem_suppkey#45',\n",
    "    'lineitem_orderkey#50',\n",
    "    'orders_orderkey#46',\n",
    "    'part_brandcontainer#3',\n",
    "    'part_partkey#23',\n",
    "    'supplier_suppkey#31',\n",
    "    'nation#27',\n",
    "    'partsupp_suppkey_partkey#60'\n",
    "]\n",
    "\n",
    "# In[23]:\n",
    "\n",
    "\n",
    "def runQuery(retinaName, tag):\n",
    "    graph = ret.getGraph(retinaName)\n",
    "    for nodeName, node in graph.dag.copy().items():\n",
    "        if node.operator[\"operation\"] == \"XcalarApiSynthesize\" or node.operator[\"operation\"] == \"XcalarApiExport\":\n",
    "            graph.removeNode(nodeName)\n",
    "        else:\n",
    "            node.operator[\"state\"] = \"Dropped\"\n",
    "\n",
    "    for nodeName, node in graph.dag.copy().items():\n",
    "        if node.operator[\"operation\"] != \"XcalarApiAggregate\":\n",
    "            node.operator[\"args\"][\"dest\"] += tag\n",
    "\n",
    "        if isinstance(node.operator[\"args\"][\"source\"], list):\n",
    "            for (ii, source) in enumerate(node.operator[\"args\"][\"source\"]):\n",
    "                if source not in sources:\n",
    "                    node.operator[\"args\"][\"source\"][ii] += tag\n",
    "        else:\n",
    "            if node.operator[\"args\"][\"source\"] not in sources:\n",
    "                node.operator[\"args\"][\"source\"] += tag\n",
    "\n",
    "    query = graph.toQueryDict()\n",
    "\n",
    "    xcalarApi.submitQuery(json.dumps(query), \"TPCH\", \"q\" + tag)\n",
    "    xcalarApi.deleteQuery(\"q\" + tag)\n",
    "    op.dropTable(\"*\" + tag)"
   ]
  },
  {
   "cell_type": "code",
   "execution_count": 57,
   "metadata": {},
   "outputs": [],
   "source": [
    "from multiprocessing import Pool\n",
    "import time\n",
    "\n",
    "def f(x, retinaName, start, runAsQuery):\n",
    "    execStart = time.time()\n",
    "\n",
    "    if runAsQuery:\n",
    "        runQuery(retinaName, x)\n",
    "    else:\n",
    "        tmpTable = \"temp-\" + x\n",
    "        ret.execute(retinaName, [], tmpTable, tmpTable)\n",
    "        op.dropTable(tmpTable)\n",
    "\n",
    "    elapsed = time.time() - start\n",
    "    execTime = time.time() - execStart\n",
    "    print(\"Dataflow time: {0:.2f}, Latency: {1:.2f}\".format(execTime, elapsed))\n",
    "\n",
    "    return elapsed\n",
    "\n",
    "def runRetina(retinaName, runs = 1, pool_count = 1, runAsQuery = True):\n",
    "    start = time.time()\n",
    "    args = [(\"tt-\" + str(i), retinaName, start, runAsQuery) for i in range(runs)]\n",
    "    p = Pool(pool_count)\n",
    "\n",
    "    times = p.starmap(f, args)\n",
    "\n",
    "    print(\"Avg Latency: {0:.2f}. Total Time: {1:.2f}\".format(sum(times) / len(times), time.time() - start))"
   ]
  },
  {
   "cell_type": "code",
   "execution_count": 61,
   "metadata": {},
   "outputs": [
    {
     "name": "stdout",
     "output_type": "stream",
     "text": [
      "\n",
      "Running: q09\n"
     ]
    },
    {
     "name": "stderr",
     "output_type": "stream",
     "text": [
      "/opt/xcalar/lib/python3.6/site-packages/urllib3/connectionpool.py:858: InsecureRequestWarning: Unverified HTTPS request is being made. Adding certificate verification is strongly advised. See: https://urllib3.readthedocs.io/en/latest/advanced-usage.html#ssl-warnings\n",
      "  InsecureRequestWarning)\n"
     ]
    },
    {
     "name": "stdout",
     "output_type": "stream",
     "text": [
      "Dataflow time: 29.85, Latency: 29.88\n",
      "Avg Latency: 29.88. Total Time: 29.88\n",
      "\n",
      "Running: q14\n"
     ]
    },
    {
     "name": "stderr",
     "output_type": "stream",
     "text": [
      "/opt/xcalar/lib/python3.6/site-packages/urllib3/connectionpool.py:858: InsecureRequestWarning: Unverified HTTPS request is being made. Adding certificate verification is strongly advised. See: https://urllib3.readthedocs.io/en/latest/advanced-usage.html#ssl-warnings\n",
      "  InsecureRequestWarning)\n"
     ]
    },
    {
     "name": "stdout",
     "output_type": "stream",
     "text": [
      "Dataflow time: 2.64, Latency: 2.66\n",
      "Avg Latency: 2.66. Total Time: 2.66\n",
      "\n",
      "Running: q17\n"
     ]
    },
    {
     "name": "stderr",
     "output_type": "stream",
     "text": [
      "/opt/xcalar/lib/python3.6/site-packages/urllib3/connectionpool.py:858: InsecureRequestWarning: Unverified HTTPS request is being made. Adding certificate verification is strongly advised. See: https://urllib3.readthedocs.io/en/latest/advanced-usage.html#ssl-warnings\n",
      "  InsecureRequestWarning)\n"
     ]
    },
    {
     "name": "stdout",
     "output_type": "stream",
     "text": [
      "Dataflow time: 2.40, Latency: 2.42\n",
      "Avg Latency: 2.42. Total Time: 2.42\n",
      "\n",
      "Running: q21\n"
     ]
    },
    {
     "name": "stderr",
     "output_type": "stream",
     "text": [
      "/opt/xcalar/lib/python3.6/site-packages/urllib3/connectionpool.py:858: InsecureRequestWarning: Unverified HTTPS request is being made. Adding certificate verification is strongly advised. See: https://urllib3.readthedocs.io/en/latest/advanced-usage.html#ssl-warnings\n",
      "  InsecureRequestWarning)\n"
     ]
    },
    {
     "name": "stdout",
     "output_type": "stream",
     "text": [
      "Dataflow time: 64.80, Latency: 64.82\n",
      "Avg Latency: 64.82. Total Time: 64.82\n"
     ]
    }
   ],
   "source": [
    "queries = [\"q09\", \"q14\", \"q17\", \"q21\"]\n",
    "\n",
    "for q in queries:\n",
    "    print(\"\\nRunning: \" + q)\n",
    "    \n",
    "    if q == \"q21\":\n",
    "        runRetina(q, runAsQuery=False)\n",
    "    else:\n",
    "        runRetina(q)\n"
   ]
  },
  {
   "cell_type": "code",
   "execution_count": 41,
   "metadata": {},
   "outputs": [
    {
     "name": "stderr",
     "output_type": "stream",
     "text": [
      "/opt/xcalar/lib/python3.6/site-packages/urllib3/connectionpool.py:858: InsecureRequestWarning: Unverified HTTPS request is being made. Adding certificate verification is strongly advised. See: https://urllib3.readthedocs.io/en/latest/advanced-usage.html#ssl-warnings\n",
      "  InsecureRequestWarning)\n"
     ]
    },
    {
     "name": "stdout",
     "output_type": "stream",
     "text": [
      "Dataflow time: 3.12, Latency: 3.14\n",
      "Avg Latency: 3.14. Total Time: 3.14\n"
     ]
    }
   ],
   "source": [
    "runRetina('q09_1')"
   ]
  },
  {
   "cell_type": "code",
   "execution_count": null,
   "metadata": {},
   "outputs": [],
   "source": []
  },
  {
   "cell_type": "code",
   "execution_count": null,
   "metadata": {},
   "outputs": [],
   "source": []
  }
 ],
 "metadata": {
  "kernelspec": {
   "display_name": "Python 3",
   "language": "python",
   "name": "python3"
  },
  "language_info": {
   "codemirror_mode": {
    "name": "ipython",
    "version": 3
   },
   "file_extension": ".py",
   "mimetype": "text/x-python",
   "name": "python",
   "nbconvert_exporter": "python",
   "pygments_lexer": "ipython3",
   "version": "3.6.4"
  }
 },
 "nbformat": 4,
 "nbformat_minor": 2
}
